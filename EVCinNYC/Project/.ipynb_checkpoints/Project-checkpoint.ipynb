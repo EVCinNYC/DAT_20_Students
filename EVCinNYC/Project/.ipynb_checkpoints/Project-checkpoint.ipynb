{
 "metadata": {
  "name": "",
  "signature": "sha256:1f8aeae755647309e9a01e0ed3e0ffa60f5b62d6b501caf9cab39ac995f3e5ee"
 },
 "nbformat": 3,
 "nbformat_minor": 0,
 "worksheets": [
  {
   "cells": [
    {
     "cell_type": "heading",
     "level": 3,
     "metadata": {},
     "source": [
      "GOAL"
     ]
    },
    {
     "cell_type": "markdown",
     "metadata": {},
     "source": [
      "I want to eventually create a segmentation of my users based on the articles they consume on my company site; I needed to come up with a dataset that would allow me to simulate the data - basically users and a count of articles consumed based on specific meta data.   "
     ]
    },
    {
     "cell_type": "heading",
     "level": 4,
     "metadata": {},
     "source": [
      "Data Collection\n"
     ]
    },
    {
     "cell_type": "markdown",
     "metadata": {},
     "source": [
      "To create this data, Google BigQuery has publicly available data on Wikipedia contributors.  I started off selecting the top 1000 topics and then looking at users that contributed to at least one of the top 1000 topics.  But there is a limit of 10,000 rows you can download in a CSV from BigQuery in the public dataset, so I liited it to 50 topics and had to subset my data based on the starting character of the user name.   The SQL I used was a join table:"
     ]
    },
    {
     "cell_type": "markdown",
     "metadata": {},
     "source": [
      "SELECT u.contributor_username as username, u.title as topic, u.sessions as ses\n",
      "    \n",
      "    FROM\n",
      "        (SELECT contributor_username, title, count(title) sessions        \n",
      "        FROM [publicdata:samples.wikipedia] \n",
      "        WHERE contributor_username like 'L%'  \n",
      "        GROUP EACH BY contributor_username, title) u\n",
      "    JOIN\n",
      "        (SELECT  title, count(distinct contributor_username) users, count(contributor_username) sessions\n",
      "        FROM [publicdata:samples.wikipedia] \n",
      "        WHERE title not like 'Wikipedia%' and title not like 'Talk%' and title not like 'User%' and title not like 'Template%'\n",
      "        GROUP EACH BY title\n",
      "        ORDER BY users DESC\n",
      "        LIMIT 50) top\n",
      "ON u.title = top.title"
     ]
    },
    {
     "cell_type": "markdown",
     "metadata": {},
     "source": [
      "In addition to the user data files, I took a look at the top 50 topics reviewed and further classified them into some specific categories; My thought was I'd add these classifications to the data - bunt not sure if the data might be better reviewed based on clusters (for example, more users might frequent certain articles based on their political bent - or not, instead of the classifications I've put together.  "
     ]
    },
    {
     "cell_type": "code",
     "collapsed": false,
     "input": [
      "import numpy as np\n",
      "import pandas as pd\n",
      "import statsmodels.api as sm\n",
      "import matplotlib.pyplot as plt\n",
      "\n",
      "%matplotlib inline\n",
      "\n",
      "urltop = '/Users/EVC/GA/upstream/DAT_20_Students/EVCinNYC/data/projectdata/results-top50.csv'\n",
      "urlusers = '/Users/EVC/GA/upstream/DAT_20_Students/EVCinNYC/data/projectdata/results-A.csv'\n",
      "\n",
      "toptitles = pd.read_csv(urltop)\n",
      "toptitles = toptitles.drop('Unnamed: 4', axis=1)\n",
      "print toptitles\n"
     ],
     "language": "python",
     "metadata": {},
     "outputs": [
      {
       "output_type": "stream",
       "stream": "stdout",
       "text": [
        "                                        title  users  sessions           topic\n",
        "0                              George W. Bush   7391     32314          Leader\n",
        "1                               United States   4706     21760         Country\n",
        "2                                Barack Obama   4155     17453          Leader\n",
        "3                                Adolf Hitler   4052     15037          Leader\n",
        "4                             Michael Jackson   3617     19304           Music\n",
        "5                                       Jesus   3506     17082        Religion\n",
        "6                              Britney Spears   3420     14874           Music\n",
        "7                               PlayStation 3   3292     13222           Games\n",
        "8                                World War II   3224     14622  Historic Event\n",
        "9                                         Wii   3078     14620           Games\n",
        "10                               Harry Potter   2855      8374           Movie\n",
        "11                                The Beatles   2748     12264           Music\n",
        "12                                   Xbox 360   2684      9585           Games\n",
        "13       Harry Potter and the Deathly Hallows   2674      9523           Movie\n",
        "14                                  RuneScape   2626     12090           Games\n",
        "15                                     Eminem   2618      8826           Music\n",
        "16                             United Kingdom   2582     11804         Country\n",
        "17                                        Cat   2576      7929          Animal\n",
        "18                       September 11 attacks   2551     11086  Historic Event\n",
        "19                               Bill Clinton   2543      8928          Leader\n",
        "20                                       IPod   2538      8244            Tech\n",
        "21                            Albert Einstein   2492      9003         Science\n",
        "22                             Saddam Hussein   2486      8205          Leader\n",
        "23  United States presidential election, 2008   2457     10446  Historic Event\n",
        "24                                World War I   2444      8267  Historic Event\n",
        "25                                 Bill Gates   2400      7204            Tech\n",
        "26                               The Simpsons   2399      7274         TV Show\n",
        "27                               Paris Hilton   2394      7789     Entertainer\n",
        "28                                      India   2391     12203         Country\n",
        "29                              Ronald Reagan   2388     10110          Leader\n",
        "30                            Osama bin Laden   2359      7290          Leader\n",
        "31                                     London   2353      9224            City\n",
        "32                             Global warming   2347     14074         Science\n",
        "33                            Cannabis (drug)   2342      8092           Other\n",
        "34                                     Canada   2328     10758         Country\n",
        "35                                 South Park   2328      6149         TV Show\n",
        "36                              New York City   2315     10164            City\n",
        "37                                    50 Cent   2289      8090           Music\n",
        "38                                 Family Guy   2289      6076         TV Show\n",
        "39                                     Google   2286      5812            Tech\n",
        "40                          George Washington   2285      7228          Leader\n",
        "41                                 Tony Blair   2270      7385          Leader\n",
        "42                                  Star Wars   2263      7075           Movie\n",
        "43                                   Muhammad   2258     13050        Religion\n",
        "44                                        God   2252      7187        Religion\n",
        "45                                Scientology   2234     10092        Religion\n",
        "46                                     Israel   2216     10156         Country\n",
        "47                               Christianity   2201     11609        Religion\n",
        "48                                      Japan   2192      9379         Country\n",
        "49                                      Islam   2185     11793        Religion\n"
       ]
      }
     ],
     "prompt_number": 1
    },
    {
     "cell_type": "code",
     "collapsed": false,
     "input": [
      "usersA = pd.read_csv(urlusers, skiprows=1, header=None, names = (\"username\",\"title\",\"count\") )\n",
      "usersA.head()"
     ],
     "language": "python",
     "metadata": {},
     "outputs": [
      {
       "html": [
        "<div style=\"max-height:1000px;max-width:1500px;overflow:auto;\">\n",
        "<table border=\"1\" class=\"dataframe\">\n",
        "  <thead>\n",
        "    <tr style=\"text-align: right;\">\n",
        "      <th></th>\n",
        "      <th>username</th>\n",
        "      <th>title</th>\n",
        "      <th>count</th>\n",
        "    </tr>\n",
        "  </thead>\n",
        "  <tbody>\n",
        "    <tr>\n",
        "      <th>0</th>\n",
        "      <td> A</td>\n",
        "      <td>                       Britney Spears</td>\n",
        "      <td> 2</td>\n",
        "    </tr>\n",
        "    <tr>\n",
        "      <th>1</th>\n",
        "      <td> A</td>\n",
        "      <td> Harry Potter and the Deathly Hallows</td>\n",
        "      <td> 1</td>\n",
        "    </tr>\n",
        "    <tr>\n",
        "      <th>2</th>\n",
        "      <td> A</td>\n",
        "      <td>                         Barack Obama</td>\n",
        "      <td> 1</td>\n",
        "    </tr>\n",
        "    <tr>\n",
        "      <th>3</th>\n",
        "      <td> A</td>\n",
        "      <td>                         The Simpsons</td>\n",
        "      <td> 7</td>\n",
        "    </tr>\n",
        "    <tr>\n",
        "      <th>4</th>\n",
        "      <td> A</td>\n",
        "      <td>                           Family Guy</td>\n",
        "      <td> 1</td>\n",
        "    </tr>\n",
        "  </tbody>\n",
        "</table>\n",
        "</div>"
       ],
       "metadata": {},
       "output_type": "pyout",
       "prompt_number": 18,
       "text": [
        "  username                                 title  count\n",
        "0        A                        Britney Spears      2\n",
        "1        A  Harry Potter and the Deathly Hallows      1\n",
        "2        A                          Barack Obama      1\n",
        "3        A                          The Simpsons      7\n",
        "4        A                            Family Guy      1"
       ]
      }
     ],
     "prompt_number": 18
    },
    {
     "cell_type": "code",
     "collapsed": false,
     "input": [
      "usersA_topic = pd.merge(usersA,toptitles, on='title')\n",
      "usersA_topic.head()"
     ],
     "language": "python",
     "metadata": {},
     "outputs": [
      {
       "html": [
        "<div style=\"max-height:1000px;max-width:1500px;overflow:auto;\">\n",
        "<table border=\"1\" class=\"dataframe\">\n",
        "  <thead>\n",
        "    <tr style=\"text-align: right;\">\n",
        "      <th></th>\n",
        "      <th>username</th>\n",
        "      <th>title</th>\n",
        "      <th>count</th>\n",
        "      <th>users</th>\n",
        "      <th>sessions</th>\n",
        "      <th>topic</th>\n",
        "    </tr>\n",
        "  </thead>\n",
        "  <tbody>\n",
        "    <tr>\n",
        "      <th>0</th>\n",
        "      <td>                    A</td>\n",
        "      <td> Britney Spears</td>\n",
        "      <td> 2</td>\n",
        "      <td> 3420</td>\n",
        "      <td> 14874</td>\n",
        "      <td> Music</td>\n",
        "    </tr>\n",
        "    <tr>\n",
        "      <th>1</th>\n",
        "      <td> A More Perfect Onion</td>\n",
        "      <td> Britney Spears</td>\n",
        "      <td> 1</td>\n",
        "      <td> 3420</td>\n",
        "      <td> 14874</td>\n",
        "      <td> Music</td>\n",
        "    </tr>\n",
        "    <tr>\n",
        "      <th>2</th>\n",
        "      <td>             A Nobody</td>\n",
        "      <td> Britney Spears</td>\n",
        "      <td> 1</td>\n",
        "      <td> 3420</td>\n",
        "      <td> 14874</td>\n",
        "      <td> Music</td>\n",
        "    </tr>\n",
        "    <tr>\n",
        "      <th>3</th>\n",
        "      <td>       A Star Is Here</td>\n",
        "      <td> Britney Spears</td>\n",
        "      <td> 1</td>\n",
        "      <td> 3420</td>\n",
        "      <td> 14874</td>\n",
        "      <td> Music</td>\n",
        "    </tr>\n",
        "    <tr>\n",
        "      <th>4</th>\n",
        "      <td>              A2Kafir</td>\n",
        "      <td> Britney Spears</td>\n",
        "      <td> 1</td>\n",
        "      <td> 3420</td>\n",
        "      <td> 14874</td>\n",
        "      <td> Music</td>\n",
        "    </tr>\n",
        "  </tbody>\n",
        "</table>\n",
        "</div>"
       ],
       "metadata": {},
       "output_type": "pyout",
       "prompt_number": 22,
       "text": [
        "               username           title  count  users  sessions  topic\n",
        "0                     A  Britney Spears      2   3420     14874  Music\n",
        "1  A More Perfect Onion  Britney Spears      1   3420     14874  Music\n",
        "2              A Nobody  Britney Spears      1   3420     14874  Music\n",
        "3        A Star Is Here  Britney Spears      1   3420     14874  Music\n",
        "4               A2Kafir  Britney Spears      1   3420     14874  Music"
       ]
      }
     ],
     "prompt_number": 22
    },
    {
     "cell_type": "code",
     "collapsed": false,
     "input": [],
     "language": "python",
     "metadata": {},
     "outputs": []
    }
   ],
   "metadata": {}
  }
 ]
}